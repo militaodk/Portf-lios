{
 "cells": [
  {
   "cell_type": "markdown",
   "id": "bf34d7fa",
   "metadata": {},
   "source": [
    "# Previsão de Séries Temporais - Vendas"
   ]
  },
  {
   "cell_type": "code",
   "execution_count": null,
   "id": "079427d3",
   "metadata": {},
   "outputs": [],
   "source": [
    "\n",
    "import pandas as pd\n",
    "from fbprophet import Prophet\n",
    "import matplotlib.pyplot as plt\n",
    "\n",
    "# Carregar o dataset de vendas\n",
    "df = pd.read_csv('sales_data.csv')\n",
    "\n",
    "# Renomear colunas para compatibilidade com Prophet\n",
    "df.columns = ['ds', 'y']\n",
    "\n",
    "# Criar o modelo Prophet\n",
    "model = Prophet()\n",
    "\n",
    "# Ajustar o modelo\n",
    "model.fit(df)\n",
    "\n",
    "# Fazer previsões para o próximo ano\n",
    "future = model.make_future_dataframe(periods=12, freq='M')\n",
    "forecast = model.predict(future)\n",
    "\n",
    "# Plotar a previsão\n",
    "model.plot(forecast)\n",
    "plt.title('Previsão de Vendas')\n",
    "plt.show()\n",
    "    "
   ]
  }
 ],
 "metadata": {},
 "nbformat": 4,
 "nbformat_minor": 5
}
