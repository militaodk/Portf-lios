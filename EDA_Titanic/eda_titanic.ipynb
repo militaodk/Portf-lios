{
 "cells": [
  {
   "cell_type": "markdown",
   "id": "7724b53f",
   "metadata": {},
   "source": [
    "# Análise Exploratória de Dados - Titanic Dataset"
   ]
  },
  {
   "cell_type": "code",
   "execution_count": null,
   "id": "08012801",
   "metadata": {},
   "outputs": [],
   "source": [
    "\n",
    "import pandas as pd\n",
    "import seaborn as sns\n",
    "import matplotlib.pyplot as plt\n",
    "\n",
    "# Carregar o dataset do Titanic\n",
    "df = pd.read_csv('titanic_dataset.csv')\n",
    "\n",
    "# Visualização básica do dataset\n",
    "print(df.head())\n",
    "\n",
    "# Gráfico de sobreviventes por classe\n",
    "sns.countplot(x='Pclass', hue='Survived', data=df)\n",
    "plt.title('Sobreviventes por Classe')\n",
    "plt.show()\n",
    "    "
   ]
  }
 ],
 "metadata": {},
 "nbformat": 4,
 "nbformat_minor": 5
}
