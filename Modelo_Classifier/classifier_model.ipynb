{
 "cells": [
  {
   "cell_type": "markdown",
   "id": "34643794",
   "metadata": {},
   "source": [
    "# Modelo de Classificação de Cancelamento de Clientes"
   ]
  },
  {
   "cell_type": "code",
   "execution_count": null,
   "id": "f58bf497",
   "metadata": {},
   "outputs": [],
   "source": [
    "\n",
    "import pandas as pd\n",
    "from sklearn.model_selection import train_test_split\n",
    "from sklearn.ensemble import RandomForestClassifier\n",
    "from sklearn.metrics import accuracy_score\n",
    "\n",
    "# Carregar o dataset de churn\n",
    "df = pd.read_csv('client_churn.csv')\n",
    "\n",
    "# Separar features e target\n",
    "X = df[['Age', 'Tenure', 'MonthlyCharges']]\n",
    "y = df['Churn']\n",
    "\n",
    "# Dividir os dados em treino e teste\n",
    "X_train, X_test, y_train, y_test = train_test_split(X, y, test_size=0.3, random_state=42)\n",
    "\n",
    "# Criar o modelo RandomForest\n",
    "model = RandomForestClassifier()\n",
    "\n",
    "# Treinar o modelo\n",
    "model.fit(X_train, y_train)\n",
    "\n",
    "# Fazer previsões\n",
    "y_pred = model.predict(X_test)\n",
    "\n",
    "# Avaliar a acurácia\n",
    "accuracy = accuracy_score(y_test, y_pred)\n",
    "print(f'Acurácia do modelo: {accuracy * 100:.2f}%')\n",
    "    "
   ]
  }
 ],
 "metadata": {},
 "nbformat": 4,
 "nbformat_minor": 5
}
